{
 "cells": [
  {
   "cell_type": "code",
   "execution_count": 24,
   "metadata": {},
   "outputs": [],
   "source": [
    "import regex as re\n",
    "from concurrent.futures import ThreadPoolExecutor\n",
    "import time"
   ]
  },
  {
   "cell_type": "code",
   "execution_count": 25,
   "metadata": {},
   "outputs": [],
   "source": [
    "def clean_text_chunk(chunk):\n",
    "    # Tokenize Shona text\n",
    "    shona_tokens = re.findall(r'\\b\\p{L}+\\b', chunk.lower())\n",
    "    \n",
    "    # Join tokens into cleaned text\n",
    "    cleaned_text = ' '.join(shona_tokens)\n",
    "    \n",
    "    # Remove non-letter symbols\n",
    "    cleaned_text = re.sub(r'[^a-zA-Z\\s]', '', cleaned_text)\n",
    "    \n",
    "    return cleaned_text"
   ]
  },
  {
   "cell_type": "code",
   "execution_count": 26,
   "metadata": {},
   "outputs": [],
   "source": [
    "def clean_text_multithreaded(text):\n",
    "    # Split text into lines\n",
    "    lines = text.split('\\n')\n",
    "    \n",
    "    # Clean each line individually\n",
    "    with ThreadPoolExecutor() as executor:\n",
    "        cleaned_lines = list(executor.map(clean_text_chunk, lines))\n",
    "    \n",
    "    # Join cleaned lines back together with newline characters\n",
    "    cleaned_text_with_line_breaks = '\\n'.join(cleaned_lines)\n",
    "    \n",
    "    return cleaned_text_with_line_breaks"
   ]
  },
  {
   "cell_type": "code",
   "execution_count": 27,
   "metadata": {},
   "outputs": [],
   "source": [
    "# Example usage\n",
    "with open('shona_corpus.txt', 'r', encoding='utf-8') as file:\n",
    "    shona_text = file.read()"
   ]
  },
  {
   "cell_type": "code",
   "execution_count": 28,
   "metadata": {},
   "outputs": [
    {
     "name": "stdout",
     "output_type": "stream",
     "text": [
      "Time taken: 110.99169778823853 seconds\n"
     ]
    }
   ],
   "source": [
    "# Measure the start time\n",
    "start_time = time.time()\n",
    "\n",
    "# Call the clean_text_multithreaded function\n",
    "cleaned_text = clean_text_multithreaded(shona_text)\n",
    "\n",
    "# Measure the end time\n",
    "end_time = time.time()\n",
    "\n",
    "# Calculate the elapsed time\n",
    "elapsed_time = end_time - start_time\n",
    "\n",
    "# Print the elapsed time\n",
    "print(\"Time taken:\", elapsed_time, \"seconds\")"
   ]
  },
  {
   "cell_type": "code",
   "execution_count": 29,
   "metadata": {},
   "outputs": [],
   "source": [
    "# Save cleaned text to a new file maintaining original line breaks\n",
    "with open('cleaned_shona_corpus.txt', 'w', encoding='utf-8') as file:\n",
    "    file.write(cleaned_text)"
   ]
  },
  {
   "cell_type": "code",
   "execution_count": null,
   "metadata": {},
   "outputs": [],
   "source": []
  },
  {
   "cell_type": "code",
   "execution_count": null,
   "metadata": {},
   "outputs": [],
   "source": []
  },
  {
   "cell_type": "code",
   "execution_count": null,
   "metadata": {},
   "outputs": [],
   "source": []
  },
  {
   "cell_type": "code",
   "execution_count": 33,
   "metadata": {},
   "outputs": [
    {
     "name": "stdout",
     "output_type": "stream",
     "text": [
      "Time taken: 158.84344339370728 seconds\n"
     ]
    }
   ],
   "source": [
    "# Measure the start time\n",
    "start_time = time.time()\n",
    "\n",
    "import regex as re\n",
    "from concurrent.futures import ThreadPoolExecutor\n",
    "\n",
    "def clean_text_chunk(chunk):\n",
    "    # Filter out lines with less than 4 words\n",
    "    lines = chunk.split('\\n')\n",
    "    filtered_lines = [line for line in lines if len(re.findall(r'\\b\\p{L}+\\b', line.lower())) >= 5]\n",
    "    \n",
    "    # Tokenize Shona text for each remaining line\n",
    "    cleaned_lines = []\n",
    "    for line in filtered_lines:\n",
    "        shona_tokens = re.findall(r'\\b\\p{L}+\\b', line.lower())\n",
    "        cleaned_line = ' '.join(shona_tokens)\n",
    "        # Remove non-letter symbols\n",
    "        cleaned_line = re.sub(r'[^a-zA-Z\\s]', '', cleaned_line)\n",
    "        cleaned_lines.append(cleaned_line)\n",
    "    \n",
    "    # Join cleaned lines back together with newline characters\n",
    "    cleaned_text = '\\n'.join(cleaned_lines)\n",
    "    \n",
    "    return cleaned_text\n",
    "\n",
    "def clean_text_multithreaded(text):\n",
    "    # Split text into lines\n",
    "    lines = text.split('\\n')\n",
    "    \n",
    "    with ThreadPoolExecutor() as executor:\n",
    "        cleaned_lines = list(executor.map(clean_text_chunk, lines))\n",
    "    \n",
    "    # Join cleaned lines back together with newline characters\n",
    "    cleaned_text_with_line_breaks = '\\n'.join(cleaned_lines)\n",
    "    \n",
    "    return cleaned_text_with_line_breaks\n",
    "\n",
    "# Example usage\n",
    "with open('shona.txt', 'r', encoding='utf-8') as file:\n",
    "    shona_text = file.read()\n",
    "\n",
    "cleaned_text = clean_text_multithreaded(shona_text)\n",
    "\n",
    "# Measure the end time\n",
    "end_time = time.time()\n",
    "\n",
    "# Calculate the elapsed time\n",
    "elapsed_time = end_time - start_time\n",
    "\n",
    "# Print the elapsed time\n",
    "print(\"Time taken:\", elapsed_time, \"seconds\")"
   ]
  },
  {
   "cell_type": "code",
   "execution_count": 32,
   "metadata": {},
   "outputs": [],
   "source": [
    "# Save cleaned text to a new file maintaining original line breaks\n",
    "with open('shona_corpus_5.txt', 'w', encoding='utf-8') as file:\n",
    "    file.write(cleaned_text)"
   ]
  },
  {
   "cell_type": "code",
   "execution_count": 37,
   "metadata": {},
   "outputs": [
    {
     "name": "stderr",
     "output_type": "stream",
     "text": [
      "[nltk_data] Downloading package words to\n",
      "[nltk_data]     C:\\Users\\BEE2\\AppData\\Roaming\\nltk_data...\n",
      "[nltk_data]   Unzipping corpora\\words.zip.\n"
     ]
    },
    {
     "data": {
      "text/plain": [
       "True"
      ]
     },
     "execution_count": 37,
     "metadata": {},
     "output_type": "execute_result"
    }
   ],
   "source": [
    "import regex as re\n",
    "from nltk.tokenize import word_tokenize\n",
    "from nltk.corpus import words\n",
    "from concurrent.futures import ThreadPoolExecutor\n",
    "\n",
    "\n",
    "import nltk\n",
    "nltk.download('words')\n"
   ]
  },
  {
   "cell_type": "code",
   "execution_count": 38,
   "metadata": {},
   "outputs": [
    {
     "name": "stdout",
     "output_type": "stream",
     "text": [
      "Cleaned text saved to 'cleaned_shona_corpus.txt'\n",
      "Time taken: 173.7395670413971 seconds\n"
     ]
    }
   ],
   "source": [
    "# Measure the start time\n",
    "start_time = time.time()\n",
    "\n",
    "english_words = set(words.words())\n",
    "\n",
    "def clean_text_chunk(chunk):\n",
    "    # Tokenize the chunk into words\n",
    "    tokens = word_tokenize(chunk)\n",
    "    \n",
    "    # Filter out non-English words\n",
    "    filtered_tokens = [token for token in tokens if token.lower() not in english_words]\n",
    "    \n",
    "    # Join filtered tokens into cleaned text\n",
    "    cleaned_text = ' '.join(filtered_tokens)\n",
    "    \n",
    "    # Remove non-letter symbols\n",
    "    cleaned_text = re.sub(r'[^a-zA-Z\\s]', '', cleaned_text)\n",
    "    \n",
    "    return cleaned_text\n",
    "\n",
    "def clean_text_multithreaded(text):\n",
    "    # Split text into lines\n",
    "    lines = text.split('\\n')\n",
    "    \n",
    "    with ThreadPoolExecutor() as executor:\n",
    "        cleaned_lines = list(executor.map(clean_text_chunk, lines))\n",
    "    \n",
    "    # Join cleaned lines back together with newline characters\n",
    "    cleaned_text_with_line_breaks = '\\n'.join(cleaned_lines)\n",
    "    \n",
    "    return cleaned_text_with_line_breaks\n",
    "\n",
    "# Example usage\n",
    "with open('shona_corpus_5.txt', 'r', encoding='utf-8') as file:\n",
    "    shona_text = file.read()\n",
    "\n",
    "cleaned_text = clean_text_multithreaded(shona_text)\n",
    "\n",
    "# Save cleaned text to a new file maintaining original line breaks\n",
    "with open('shona_corpus_E.txt', 'w', encoding='utf-8') as file:\n",
    "    file.write(cleaned_text)\n",
    "\n",
    "print(\"Cleaned text saved to 'cleaned_shona_corpus.txt'\")\n",
    "\n",
    "# Measure the end time\n",
    "end_time = time.time()\n",
    "\n",
    "# Calculate the elapsed time\n",
    "elapsed_time = end_time - start_time\n",
    "\n",
    "# Print the elapsed time\n",
    "print(\"Time taken:\", elapsed_time, \"seconds\")\n"
   ]
  },
  {
   "cell_type": "code",
   "execution_count": null,
   "metadata": {},
   "outputs": [],
   "source": []
  },
  {
   "cell_type": "code",
   "execution_count": null,
   "metadata": {},
   "outputs": [],
   "source": []
  }
 ],
 "metadata": {
  "kernelspec": {
   "display_name": "Python 3 (ipykernel)",
   "language": "python",
   "name": "python3"
  },
  "language_info": {
   "codemirror_mode": {
    "name": "ipython",
    "version": 3
   },
   "file_extension": ".py",
   "mimetype": "text/x-python",
   "name": "python",
   "nbconvert_exporter": "python",
   "pygments_lexer": "ipython3",
   "version": "3.9.12"
  }
 },
 "nbformat": 4,
 "nbformat_minor": 4
}
