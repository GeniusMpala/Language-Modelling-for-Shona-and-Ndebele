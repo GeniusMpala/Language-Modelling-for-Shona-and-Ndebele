{
 "cells": [
  {
   "cell_type": "code",
   "execution_count": 62,
   "id": "e5de4250",
   "metadata": {},
   "outputs": [],
   "source": [
    "from blessmore import load_fasttext_model,clean_data,train_fasttext_model"
   ]
  },
  {
   "cell_type": "code",
   "execution_count": 63,
   "id": "8f2ecdfe",
   "metadata": {},
   "outputs": [
    {
     "ename": "ValueError",
     "evalue": "Invalid dimension. Choose from [50, 100, 300, 500]",
     "output_type": "error",
     "traceback": [
      "\u001b[1;31m---------------------------------------------------------------------------\u001b[0m",
      "\u001b[1;31mValueError\u001b[0m                                Traceback (most recent call last)",
      "Input \u001b[1;32mIn [63]\u001b[0m, in \u001b[0;36m<cell line: 2>\u001b[1;34m()\u001b[0m\n\u001b[0;32m      1\u001b[0m \u001b[38;5;66;03m# Load the model\u001b[39;00m\n\u001b[1;32m----> 2\u001b[0m model \u001b[38;5;241m=\u001b[39m \u001b[43mload_fasttext_model\u001b[49m\u001b[43m(\u001b[49m\u001b[38;5;241;43m0\u001b[39;49m\u001b[43m)\u001b[49m\n",
      "File \u001b[1;32m~\\anaconda3\\lib\\site-packages\\blessmore\\shonaembeddings.py:14\u001b[0m, in \u001b[0;36mload_fasttext_model\u001b[1;34m(dimension, repo_id)\u001b[0m\n\u001b[0;32m     12\u001b[0m available_dimensions \u001b[38;5;241m=\u001b[39m [\u001b[38;5;241m50\u001b[39m, \u001b[38;5;241m100\u001b[39m, \u001b[38;5;241m300\u001b[39m, \u001b[38;5;241m500\u001b[39m]\n\u001b[0;32m     13\u001b[0m \u001b[38;5;28;01mif\u001b[39;00m dimension \u001b[38;5;129;01mnot\u001b[39;00m \u001b[38;5;129;01min\u001b[39;00m available_dimensions:\n\u001b[1;32m---> 14\u001b[0m     \u001b[38;5;28;01mraise\u001b[39;00m \u001b[38;5;167;01mValueError\u001b[39;00m(\u001b[38;5;124mf\u001b[39m\u001b[38;5;124m\"\u001b[39m\u001b[38;5;124mInvalid dimension. Choose from \u001b[39m\u001b[38;5;132;01m{\u001b[39;00mavailable_dimensions\u001b[38;5;132;01m}\u001b[39;00m\u001b[38;5;124m\"\u001b[39m)\n\u001b[0;32m     16\u001b[0m model_dir \u001b[38;5;241m=\u001b[39m \u001b[38;5;124mf\u001b[39m\u001b[38;5;124m\"\u001b[39m\u001b[38;5;124mFast_text_\u001b[39m\u001b[38;5;132;01m{\u001b[39;00mdimension\u001b[38;5;132;01m}\u001b[39;00m\u001b[38;5;124m_dim\u001b[39m\u001b[38;5;124m\"\u001b[39m\n\u001b[0;32m     17\u001b[0m outer_model_dir \u001b[38;5;241m=\u001b[39m \u001b[38;5;124mf\u001b[39m\u001b[38;5;124m\"\u001b[39m\u001b[38;5;124mFast_text_\u001b[39m\u001b[38;5;132;01m{\u001b[39;00mdimension\u001b[38;5;132;01m}\u001b[39;00m\u001b[38;5;124m_dim\u001b[39m\u001b[38;5;124m\"\u001b[39m\n",
      "\u001b[1;31mValueError\u001b[0m: Invalid dimension. Choose from [50, 100, 300, 500]"
     ]
    }
   ],
   "source": [
    "# Load the model\n",
    "model = load_fasttext_model(0)"
   ]
  },
  {
   "cell_type": "code",
   "execution_count": null,
   "id": "b521cbea",
   "metadata": {},
   "outputs": [],
   "source": []
  },
  {
   "cell_type": "code",
   "execution_count": 55,
   "id": "d9f67e7e",
   "metadata": {},
   "outputs": [
    {
     "name": "stdout",
     "output_type": "stream",
     "text": [
      "FastText(vocab=107228, vector_size=50, alpha=0.025)\n"
     ]
    }
   ],
   "source": [
    "# Now you can use the model\n",
    "print(model)"
   ]
  },
  {
   "cell_type": "code",
   "execution_count": 56,
   "id": "103552f8",
   "metadata": {},
   "outputs": [
    {
     "name": "stdout",
     "output_type": "stream",
     "text": [
      "[ 5.67073941e-01 -1.40327856e-01  2.46757850e-01 -1.19709358e-01\n",
      "  3.33165154e-02 -1.27217919e-01 -2.70771205e-01 -2.94649298e-03\n",
      " -4.37316597e-01  3.24908376e-01  1.84016023e-02 -4.91404563e-01\n",
      "  6.82000518e-01 -9.34935957e-02 -3.72670740e-01  2.63547480e-01\n",
      " -1.18853301e-01 -7.24551618e-01  2.77097493e-01 -2.68609971e-01\n",
      " -3.52165788e-01 -4.62470114e-01  1.93486243e-01 -4.70782608e-01\n",
      "  1.01021312e-01  5.08193195e-01  2.36431822e-01 -3.45228672e-01\n",
      "  8.06312859e-02  2.12296277e-01 -3.76502760e-02  2.87234217e-01\n",
      "  3.94492626e-01  2.65002131e-01  4.81813252e-01 -3.98817480e-01\n",
      " -2.38584206e-01 -4.00748253e-01  2.77814418e-01 -2.83835769e-01\n",
      "  1.32060057e-04  1.09159574e-01  5.09238124e-01 -1.78759381e-01\n",
      "  3.66199493e-01 -7.16258585e-01 -1.49325162e-01 -1.98036402e-01\n",
      "  1.75683662e-01  2.44939819e-01]\n"
     ]
    }
   ],
   "source": [
    "# Test the model\n",
    "word_vector = model.wv['mwari']\n",
    "print(word_vector)"
   ]
  },
  {
   "cell_type": "code",
   "execution_count": 57,
   "id": "0ce549b9",
   "metadata": {},
   "outputs": [
    {
     "name": "stdout",
     "output_type": "stream",
     "text": [
      "[('nokuchema', 0.8013668060302734), ('misodzi', 0.7921477556228638), ('kugomera', 0.7851063013076782), ('neshungu', 0.7747995853424072), ('kushama', 0.7743090391159058), ('nokurwadziwa', 0.773996114730835), ('kutambudzika', 0.7726404666900635), ('kutsamwa', 0.7675794363021851), ('nokunyemwerera', 0.7657536864280701), ('mukurwadziwa', 0.7648314237594604)]\n"
     ]
    }
   ],
   "source": [
    "# Test similarity\n",
    "similar_words = model.wv.most_similar(\"kuchema\", topn=10)\n",
    "print(similar_words)"
   ]
  },
  {
   "cell_type": "code",
   "execution_count": 45,
   "id": "e1efb280",
   "metadata": {},
   "outputs": [],
   "source": [
    "#TRAIN THE MODEL"
   ]
  },
  {
   "cell_type": "code",
   "execution_count": 58,
   "id": "019c8f8f",
   "metadata": {},
   "outputs": [
    {
     "name": "stdout",
     "output_type": "stream",
     "text": [
      "Time taken for cleaning: 0.01595783233642578 seconds\n",
      "Time taken for training: 0.8526387214660645 seconds\n"
     ]
    }
   ],
   "source": [
    "corpus_file_path = 'D.txt'\n",
    "vector_size = 100  # Specify the dimension you want to train\n",
    "model = train_fasttext_model(corpus_file_path, vector_size)"
   ]
  },
  {
   "cell_type": "code",
   "execution_count": 59,
   "id": "f187bf72",
   "metadata": {},
   "outputs": [
    {
     "name": "stdout",
     "output_type": "stream",
     "text": [
      "FastText(vocab=47, vector_size=100, alpha=0.025)\n"
     ]
    }
   ],
   "source": [
    "print(model)"
   ]
  },
  {
   "cell_type": "code",
   "execution_count": 60,
   "id": "5f200eca",
   "metadata": {},
   "outputs": [
    {
     "name": "stdout",
     "output_type": "stream",
     "text": [
      "[-0.05808075  0.02691786 -0.12374535 -0.16485149  0.07784606  0.03321721\n",
      "  0.01786929 -0.06979045  0.03044261 -0.07148993  0.07710394 -0.06150241\n",
      "  0.0529307   0.12435533  0.02772404 -0.07085697  0.0837675  -0.07435855\n",
      "  0.07163759  0.00095601  0.02251761  0.01236821 -0.15168667 -0.05155817\n",
      "  0.013237   -0.09906916 -0.08628461 -0.0420143  -0.00077557  0.01589672\n",
      " -0.02875091 -0.12329462 -0.04197422 -0.00349019 -0.06680788 -0.05572449\n",
      "  0.06816229 -0.02254143  0.07012866  0.05675221  0.03650261 -0.05846278\n",
      "  0.03530061  0.03364269  0.01252788 -0.21507543 -0.06456888 -0.05949911\n",
      " -0.05034069  0.01556739 -0.19037223 -0.14476615 -0.01110975 -0.06953236\n",
      "  0.00210876  0.06594508 -0.00468301  0.04179926 -0.11621346  0.08994889\n",
      " -0.12093903  0.00484435 -0.22371571  0.05350314 -0.04605601  0.0527712\n",
      "  0.00033835  0.01180996 -0.00112449  0.134797    0.16672516 -0.03094844\n",
      "  0.03462701 -0.01377125  0.06850711  0.04242488  0.08387101 -0.09700076\n",
      "  0.1296681   0.00177863 -0.0170989  -0.02484695  0.04206565 -0.05684489\n",
      " -0.0866009   0.05799809  0.09258815  0.02224196 -0.12206639  0.00040557\n",
      "  0.06585953  0.00619552  0.08122182 -0.03959903 -0.0684114   0.0841369\n",
      " -0.04085432  0.05735153 -0.06580286  0.03232509]\n"
     ]
    }
   ],
   "source": [
    "# Test the model\n",
    "word_vector = model.wv['akati ']\n",
    "print(word_vector)"
   ]
  },
  {
   "cell_type": "code",
   "execution_count": 49,
   "id": "537f85d3",
   "metadata": {},
   "outputs": [],
   "source": [
    "#CLEAN  DATA"
   ]
  },
  {
   "cell_type": "code",
   "execution_count": 50,
   "id": "02e4c4e2",
   "metadata": {},
   "outputs": [
    {
     "name": "stdout",
     "output_type": "stream",
     "text": [
      "Time taken: 0.011967897415161133 seconds\n"
     ]
    }
   ],
   "source": [
    "input_file = 'D.txt'\n",
    "output_file = 'cleaned_shona_corpus.txt'\n",
    "clean_data(input_file, output_file)"
   ]
  },
  {
   "cell_type": "code",
   "execution_count": 51,
   "id": "fd1f873d",
   "metadata": {},
   "outputs": [
    {
     "name": "stdout",
     "output_type": "stream",
     "text": [
      "mwari\n",
      "kuti\n",
      "akati\n",
      "pose\n",
      "pasi\n",
      "munhu\n",
      "tenzi\n",
      "zvose\n",
      "zvino\n",
      "uye\n",
      "iri\n",
      "yose\n",
      "dzose\n",
      "nezvinhu\n",
      "michero\n",
      "asi\n",
      "nokuti\n",
      "zuva\n",
      "akaona\n",
      "marudzi\n",
      "neshiri\n",
      "akavapo\n",
      "akavapowo\n",
      "chiedza\n",
      "madeko\n",
      "akasika\n",
      "rikava\n",
      "inobereka\n",
      "murume\n",
      "saizvozvo\n",
      "nyika\n",
      "zvakanaka\n",
      "nemiti\n",
      "nyoka\n",
      "mbeu\n",
      "yakanga\n",
      "mukadzi\n",
      "rwizi\n",
      "muti\n",
      "uya\n",
      "zvipenyu\n",
      "mhuka\n",
      "zvinokambaira\n",
      "azvo\n",
      "mvura\n",
      "namangwanani\n",
      "ko\n"
     ]
    }
   ],
   "source": [
    "# Access the vocabulary\n",
    "vocab = model.wv.key_to_index\n",
    "\n",
    "# Print the vocabulary\n",
    "for word in vocab:\n",
    "    print(word)"
   ]
  },
  {
   "cell_type": "code",
   "execution_count": null,
   "id": "760aa12f",
   "metadata": {},
   "outputs": [],
   "source": []
  },
  {
   "cell_type": "code",
   "execution_count": null,
   "id": "c2a93539",
   "metadata": {},
   "outputs": [],
   "source": []
  },
  {
   "cell_type": "code",
   "execution_count": null,
   "id": "9fc8ddbb",
   "metadata": {},
   "outputs": [],
   "source": []
  },
  {
   "cell_type": "code",
   "execution_count": null,
   "id": "b878f0b3",
   "metadata": {},
   "outputs": [],
   "source": []
  },
  {
   "cell_type": "code",
   "execution_count": null,
   "id": "7edd817d",
   "metadata": {},
   "outputs": [],
   "source": []
  },
  {
   "cell_type": "code",
   "execution_count": null,
   "id": "80f36736",
   "metadata": {},
   "outputs": [],
   "source": []
  },
  {
   "cell_type": "code",
   "execution_count": null,
   "id": "0f92bcee",
   "metadata": {},
   "outputs": [],
   "source": []
  },
  {
   "cell_type": "code",
   "execution_count": null,
   "id": "31ec7d8b",
   "metadata": {},
   "outputs": [],
   "source": []
  },
  {
   "cell_type": "code",
   "execution_count": 52,
   "id": "4d18dbf7",
   "metadata": {},
   "outputs": [
    {
     "name": "stdout",
     "output_type": "stream",
     "text": [
      "Contents of Fast_text_100_dim\\Fast_text_100_dim:\n",
      "shona_fasttext_100d.model\n",
      "shona_fasttext_100d.model.wv.vectors_ngrams.npy\n",
      "shona_fasttext_vectors_100d.kv\n",
      "shona_fasttext_vectors_100d.kv.vectors_ngrams.npy\n"
     ]
    }
   ],
   "source": [
    "import os\n",
    "\n",
    "dimension = 100  # Change this to the dimension you're using\n",
    "model_dir = f\"Fast_text_{dimension}_dim\\Fast_text_{dimension}_dim\"\n",
    "\n",
    "# Check if the nested directory exists and list its contents\n",
    "if os.path.exists(model_dir):\n",
    "    print(f\"Contents of {model_dir}:\")\n",
    "    for file_name in os.listdir(model_dir):\n",
    "        print(file_name)\n",
    "else:\n",
    "    print(f\"Directory {model_dir} does not exist.\")\n"
   ]
  },
  {
   "cell_type": "code",
   "execution_count": null,
   "id": "21dec3b6",
   "metadata": {},
   "outputs": [],
   "source": [
    "shona_fasttext_100d.model"
   ]
  },
  {
   "cell_type": "code",
   "execution_count": null,
   "id": "8e0071c5",
   "metadata": {},
   "outputs": [],
   "source": [
    "FileNotFoundError: Model file not found: Fast_text_100_dim\\Fast_text_100_dim\\shona_fasttext_100d.model\n"
   ]
  }
 ],
 "metadata": {
  "kernelspec": {
   "display_name": "Python 3 (ipykernel)",
   "language": "python",
   "name": "python3"
  },
  "language_info": {
   "codemirror_mode": {
    "name": "ipython",
    "version": 3
   },
   "file_extension": ".py",
   "mimetype": "text/x-python",
   "name": "python",
   "nbconvert_exporter": "python",
   "pygments_lexer": "ipython3",
   "version": "3.9.12"
  }
 },
 "nbformat": 4,
 "nbformat_minor": 5
}
